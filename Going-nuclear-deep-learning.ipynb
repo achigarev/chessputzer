{
 "cells": [
  {
   "cell_type": "markdown",
   "metadata": {},
   "source": [
    "Comrades, you knew it was coming. No more tricks, filters and hand-tuning. We feed our data into the deep learning sausage factory."
   ]
  },
  {
   "cell_type": "code",
   "execution_count": 1,
   "metadata": {},
   "outputs": [
    {
     "name": "stderr",
     "output_type": "stream",
     "text": [
      "C:\\ProgramData\\Anaconda3\\lib\\site-packages\\h5py\\__init__.py:36: FutureWarning: Conversion of the second argument of issubdtype from `float` to `np.floating` is deprecated. In future, it will be treated as `np.float64 == np.dtype(float).type`.\n",
      "  from ._conv import register_converters as _register_converters\n",
      "Using TensorFlow backend.\n"
     ]
    }
   ],
   "source": [
    "import numpy as np\n",
    "import keras\n",
    "from keras.models import Sequential\n",
    "from keras.layers import Dense, Dropout, Flatten,Activation\n",
    "from keras.layers import Conv2D, MaxPooling2D,GlobalAveragePooling2D\n",
    "from keras.optimizers import SGD"
   ]
  },
  {
   "cell_type": "code",
   "execution_count": 13,
   "metadata": {
    "collapsed": true
   },
   "outputs": [],
   "source": [
    "import sys\n",
    "import glob\n",
    "import PIL.Image as Image\n",
    "from os.path import basename\n",
    "sys.path.append(\"../\")\n",
    "from putzlib import pieces,piecenames,piecenamesrev"
   ]
  },
  {
   "cell_type": "markdown",
   "metadata": {},
   "source": [
    "## The training Set\n",
    "\n",
    "50 chessboard images taken from scanned books, including the era prior to  computer typesetting. The file `training.py` contains code to separate images into directories containing light and dark squares, with file names labelling the piece. \n",
    "\n",
    "For machine learning, it makes sense to have the proportions of the categories in the training set, as close to the real world as we can. However this is might lead to certain categories being very underrepresented. **Example**: the white king is almost always at **e1** or **g1** which are both dark squares, and a similar situation holds for the black king. \n",
    "\n",
    "To alleviate this problem and increase robustness, I augmented the training set by about 8x by applying random translations. "
   ]
  },
  {
   "cell_type": "code",
   "execution_count": null,
   "metadata": {
    "collapsed": true
   },
   "outputs": [],
   "source": [
    "def randomtrans(ima,maxoff=5):\n",
    "    '''Randomly translate an array by (x,y) where x and y lie in (-maxoff,maxoff)'''\n",
    "    l,w = ima.shape\n",
    "    imc = np.zeros((l+2*maxoff,w+2*maxoff),dtype=ima.dtype)\n",
    "    tx,ty = random.randint(0,2*maxoff),random.randint(0,2*maxoff)\n",
    "    imc[tx:tx+l,ty:ty+w] = ima\n",
    "    return imc[maxoff:maxoff+l,maxoff:maxoff+w]"
   ]
  },
  {
   "cell_type": "markdown",
   "metadata": {},
   "source": [
    "## The network\n",
    "\n",
    "The architecture is the now standard alternation of convolution-pooling-dropout layers. The notable feature is the omission of a final dense layer, in favour of global pooling with the appropriate number of channels (13 for each of the pieces and a blank square). \n",
    "\n",
    "Let us thank the [alchemists](https://www.youtube.com/watch?v=Qi1Yry33TQE) who discovered that this graph works just as well, with fewer parameters."
   ]
  },
  {
   "cell_type": "code",
   "execution_count": 2,
   "metadata": {},
   "outputs": [],
   "source": [
    "modela = Sequential()\n",
    "\n",
    "modela.add(Dropout(0.2,input_shape=(32, 32,1)))\n",
    "modela.add(Conv2D(32, (5, 5), activation='relu', padding=\"same\"))\n",
    "modela.add(MaxPooling2D(pool_size=(3, 3),strides=(2,2)))\n",
    "modela.add(Dropout(0.5))\n",
    "\n",
    "modela.add(Conv2D(64, (5, 5), activation='relu',padding=\"same\"))\n",
    "modela.add(MaxPooling2D(pool_size=(3, 3),strides=(2,2)))\n",
    "modela.add(Dropout(0.5))\n",
    "\n",
    "modela.add(Conv2D(64, (3, 3), activation='relu',padding=\"same\"))\n",
    "modela.add(Conv2D(64, (1, 1), activation='relu',padding=\"same\"))\n",
    "modela.add(Conv2D(13, (1, 1), activation='relu',padding=\"same\"))\n",
    "\n",
    "modela.add(GlobalAveragePooling2D())\n",
    "modela.add(Activation('softmax'))"
   ]
  },
  {
   "cell_type": "code",
   "execution_count": 3,
   "metadata": {
    "collapsed": true
   },
   "outputs": [
    {
     "name": "stdout",
     "output_type": "stream",
     "text": [
      "_________________________________________________________________\n",
      "Layer (type)                 Output Shape              Param #   \n",
      "=================================================================\n",
      "dropout_1 (Dropout)          (None, 32, 32, 1)         0         \n",
      "_________________________________________________________________\n",
      "conv2d_1 (Conv2D)            (None, 32, 32, 32)        832       \n",
      "_________________________________________________________________\n",
      "max_pooling2d_1 (MaxPooling2 (None, 15, 15, 32)        0         \n",
      "_________________________________________________________________\n",
      "dropout_2 (Dropout)          (None, 15, 15, 32)        0         \n",
      "_________________________________________________________________\n",
      "conv2d_2 (Conv2D)            (None, 15, 15, 64)        51264     \n",
      "_________________________________________________________________\n",
      "max_pooling2d_2 (MaxPooling2 (None, 7, 7, 64)          0         \n",
      "_________________________________________________________________\n",
      "dropout_3 (Dropout)          (None, 7, 7, 64)          0         \n",
      "_________________________________________________________________\n",
      "conv2d_3 (Conv2D)            (None, 7, 7, 64)          36928     \n",
      "_________________________________________________________________\n",
      "conv2d_4 (Conv2D)            (None, 7, 7, 64)          4160      \n",
      "_________________________________________________________________\n",
      "conv2d_5 (Conv2D)            (None, 7, 7, 13)          845       \n",
      "_________________________________________________________________\n",
      "global_average_pooling2d_1 ( (None, 13)                0         \n",
      "_________________________________________________________________\n",
      "activation_1 (Activation)    (None, 13)                0         \n",
      "=================================================================\n",
      "Total params: 94,029\n",
      "Trainable params: 94,029\n",
      "Non-trainable params: 0\n",
      "_________________________________________________________________\n"
     ]
    }
   ],
   "source": [
    "modela.summary()"
   ]
  },
  {
   "cell_type": "code",
   "execution_count": 9,
   "metadata": {},
   "outputs": [],
   "source": [
    "import os\n",
    "os.environ[\"PATH\"] += os.pathsep + 'C:/Program Files (x86)/Graphviz2.38/bin/'\n",
    "\n",
    "from keras.utils import plot_model\n",
    "plot_model(modela, to_file='modela.png')"
   ]
  },
  {
   "cell_type": "code",
   "execution_count": 8,
   "metadata": {},
   "outputs": [],
   "source": [
    "def makedataset(path,piecenums=range(13)):\n",
    "    \"\"\"Load squares and read labels from the filename\n",
    "      return both images and labels\"\"\"\n",
    "    # Each tile is a 32x32 grayscale image, add extra axis for numchannels=1\n",
    "    imfiles=[]\n",
    "    for p in piecenums:\n",
    "        imfiles += glob.glob(path+piecenames[pieces[p]]+'*png')\n",
    "    ims =  np.zeros([len(imfiles), 32, 32, 1], dtype=np.uint8)\n",
    "    labels = np.zeros([len(imfiles), 13], dtype=np.float32)\n",
    "    for i, impath in enumerate(imfiles):\n",
    "        if i % 100 == 0:\n",
    "            print(\".\",end=' ')   \n",
    "    # Image\n",
    "        ims[i,:,:,0] = np.asarray(Image.open(impath), dtype=np.uint8)\n",
    "    # Label\n",
    "        _lab = np.zeros(13, dtype=np.uint8)\n",
    "        _ptype = basename(impath)[:2]\n",
    "        _lab[pieces.index(piecenamesrev[_ptype])] = 1\n",
    "        labels[i,:] = _lab\n",
    "    print(\"Done\")\n",
    "    return ims,labels"
   ]
  },
  {
   "cell_type": "code",
   "execution_count": 14,
   "metadata": {},
   "outputs": [
    {
     "name": "stdout",
     "output_type": "stream",
     "text": [
      ". . . . . . . . . . . . . . . . . . . . . . . . . . . . . . . . . . . . . . . . . . . . . . . . . . . . . . . . . . . . . . . . . . . . . . . . . . . . . . . . . . . . . . . . . . . . . . . . . . . . . . . . . . . . . . . . . . . . . . . . . . . . . . . . . . . . . . . . . . . . . . . . . . . . . . . Done\n"
     ]
    }
   ],
   "source": [
    "ims,labels=makedataset('C:/Users/klein/Documents/putzdata/boardscomb3/darksquares/',range(13))\n",
    "#shuffle order\n",
    "s=np.arange(ims.shape[0])\n",
    "np.random.shuffle(s)\n",
    "ims,labels = ims[s],labels[s]"
   ]
  },
  {
   "cell_type": "code",
   "execution_count": null,
   "metadata": {
    "collapsed": true
   },
   "outputs": [],
   "source": [
    "modela.fit(train_images,train_labels, batch_size=100, epochs=15)"
   ]
  },
  {
   "cell_type": "code",
   "execution_count": null,
   "metadata": {
    "collapsed": true
   },
   "outputs": [],
   "source": [
    "modela.evaluate(test_images, test_labels, batch_size=100)"
   ]
  },
  {
   "cell_type": "code",
   "execution_count": null,
   "metadata": {
    "collapsed": true
   },
   "outputs": [],
   "source": [
    "from keras.models import load_model\n",
    "\n",
    "modlight = load_model('../saved_models/lightA.h5')\n",
    "moddark  = load_model('../saved_models/darkA.h5')"
   ]
  },
  {
   "cell_type": "code",
   "execution_count": null,
   "metadata": {
    "collapsed": true
   },
   "outputs": [],
   "source": [
    "def boardprednn2(squares,modlight,moddark):\n",
    "    if len(squares) != 64:\n",
    "        return \"\"\n",
    "    sqresized = [cv2.resize(im,(32,32),interpolation = cv2.INTER_CUBIC) for im in squares]\n",
    "    sqdark = np.zeros((32,32,32,1),np.float32)\n",
    "    sqlight = np.zeros((32,32,32,1),np.float32)\n",
    "    for i,s in enumerate(sqresized):\n",
    "        ld = (i + i//8)%2\n",
    "        if ld == 0:\n",
    "            sqlight[i//2,:,:,0] = (1/255.0)*np.float32(s)\n",
    "        else:\n",
    "            sqdark[i//2,:,:,0] = (1/255.0)*np.float32(s)\n",
    "    predslight = np.argmax(modlight.predict(sqlight),axis=1)\n",
    "    predsdark = np.argmax(moddark.predict(sqdark),axis=1)\n",
    "    bb = \"\"\n",
    "    for i in range(64):\n",
    "        ld = (i + i//8)%2\n",
    "        pred = (predslight,predsdark)[ld][i//2]\n",
    "        bb += pieces[pred]\n",
    "        if (i+1) % 8 ==0:\n",
    "            bb+=\"/\"\n",
    "    return boardtofen(bb[:-1])"
   ]
  }
 ],
 "metadata": {
  "kernelspec": {
   "display_name": "Python 3",
   "language": "python",
   "name": "python3"
  },
  "language_info": {
   "codemirror_mode": {
    "name": "ipython",
    "version": 3
   },
   "file_extension": ".py",
   "mimetype": "text/x-python",
   "name": "python",
   "nbconvert_exporter": "python",
   "pygments_lexer": "ipython3",
   "version": "3.6.4"
  }
 },
 "nbformat": 4,
 "nbformat_minor": 2
}
