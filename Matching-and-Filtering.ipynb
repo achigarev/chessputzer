{
 "cells": [
  {
   "cell_type": "markdown",
   "metadata": {},
   "source": [
    "# Matching and Filtering"
   ]
  },
  {
   "cell_type": "code",
   "execution_count": 10,
   "metadata": {},
   "outputs": [],
   "source": [
    "import sys\n",
    "sys.path.append(\"../\")\n",
    "from putzlib import *\n",
    "import matplotlib.pyplot as plt\n",
    "%matplotlib inline"
   ]
  },
  {
   "cell_type": "markdown",
   "metadata": {
    "collapsed": true
   },
   "source": [
    "Now we have 64 images, each of which corresponds to a one of 6 black pieces, 6 white pieces, or an empty square. Looking through a few books I found the following three fonts (typefaces?) are the most common. \n",
    "\n",
    "![pieceset](./examples/pieceset.png)\n",
    "\n",
    "**Note** the above come from scanned images, cleaned up a bit with Windows Paint. No orginal fonts etc. have been used. "
   ]
  },
  {
   "cell_type": "markdown",
   "metadata": {},
   "source": [
    "Now we have *reference templates* with which to compare our unknown image. \n",
    "\n",
    "A first approach might to treat the images as vectors and take dot products with each of the templates, suitably normalized. We would of course scale each image to a standard size so that the vectors are of equal lengths. Then the dot product is a crude measure of the overlap. \n",
    "\n",
    "\n",
    "    import numpy as np\n",
    "    def overlap(im,template):\n",
    "        im,template = np.float32(im),np.float32(template)\n",
    "        return np.dot(im.flatten(),template.flatten())\n",
    "    \n",
    "    def piecematch(im,templates):\n",
    "        matches = [overlap(im,temp) for temp in templates]\n",
    "        return np.argmax(matches)"
   ]
  },
  {
   "cell_type": "markdown",
   "metadata": {},
   "source": [
    "But this method only works if the image and templates are exactly aligned. Even a small offset will reduce the overlap substantially. \n",
    "\n",
    "![offset](./examples/offset.png) \n",
    "\n",
    "We need an algorithm that is **translation invariant**. We could try sliding the image around the template and computing the overlap (sum of the product of pixel values) at each point. The maximum of the these overlaps is the number we want. \n",
    "\n",
    "    import scipy.signal\n",
    "    def overlap(im,template):\n",
    "        im,template = np.float32(im),np.float32(template)\n",
    "        template = np.pad(template,((8,8),(8,8)),mode='constant') #make space to slide \n",
    "        overs = scipy.signal.convolve2d(im,template[::-1,::-1],mode='valid')\n",
    "        return overs.max()\n",
    "        \n",
    "    def piecematch(im,templates):\n",
    "        matches = [overlap(im,temp) for temp in templates]\n",
    "        return np.argmax(matches)"
   ]
  },
  {
   "cell_type": "markdown",
   "metadata": {},
   "source": [
    "1. In the code, we take negatives of all images and rescale them to 32 * 32. The templates are normalized so that `overlap(temp,temp) = 1` \n",
    "\n",
    "2. The reason for reversing one of the arrays viz. `template[::-1,::-1]` is that convolution is defined to be $\\sum_x f(x) g(-x)$ and we need $\\sum_x f(x) g(x)$.\n",
    "\n",
    "3. If none of the overlaps are above a certain cutoff, we may conclude that the image is a blank (white) square. "
   ]
  },
  {
   "cell_type": "markdown",
   "metadata": {},
   "source": [
    "We have rediscovered a technique for image recognition called **template matching** that has been around since the 80s. It works tolerably well part of the image as been cut off, as happens quite often. Note that it is still *not scale-invariant*."
   ]
  },
  {
   "cell_type": "markdown",
   "metadata": {},
   "source": [
    "## Filtering\n",
    "\n",
    "The above works pretty well for the *white squares* getting to ~95% accuracy, which can be improved by a second pass that we'll come to later. \n",
    "\n",
    "But we run into difficulties with the *dark squares* that have some sort of striped background. \n",
    "\n",
    "![darkpieces](./examples/darkpieces.png)\n"
   ]
  },
  {
   "cell_type": "raw",
   "metadata": {},
   "source": [
    "Trying template matching as is, gives a whole spate of errors. Even identifying the dark squares that are empty (just stripes) is hard. We can think of the stripes as noise that must be removed. If we take the thickness of the lines as a measure of strength, note that the noise can actually be stronger than the signal!"
   ]
  },
  {
   "cell_type": "markdown",
   "metadata": {},
   "source": [
    "### Blank squares\n",
    "\n",
    "Neither the number nor the thickness of the stripes is a constant across fonts. But the pattern is suffiently regular to use Fourier methods. "
   ]
  },
  {
   "cell_type": "code",
   "execution_count": 6,
   "metadata": {},
   "outputs": [
    {
     "data": {
      "image/png": "[encoded data removed]",
      "text/plain": [
       "<PIL.Image.Image image mode=L size=59x60 at 0xBB65A339B0>"
      ]
     },
     "execution_count": 6,
     "metadata": {},
     "output_type": "execute_result"
    }
   ],
   "source": [
    "im = Image.open('./examples/zz76.png')\n",
    "ima = np.bitwise_not(np.asarray(im))\n",
    "Image.fromarray(ima)"
   ]
  },
  {
   "cell_type": "code",
   "execution_count": 15,
   "metadata": {},
   "outputs": [
    {
     "data": {
      "text/plain": [
       "<matplotlib.image.AxesImage at 0xbb66af6438>"
      ]
     },
     "execution_count": 15,
     "metadata": {},
     "output_type": "execute_result"
    },
    {
     "data": {
      "image/png": "[encoded data removed]",
      "text/plain": [
       "<matplotlib.figure.Figure at 0xbb66a03d30>"
      ]
     },
     "metadata": {},
     "output_type": "display_data"
    }
   ],
   "source": [
    "imf=np.fft.fft2(np.float32(ima))\n",
    "plt.imshow(abs(imf)[1:,1:])"
   ]
  },
  {
   "cell_type": "markdown",
   "metadata": {},
   "source": [
    "For clarity we have omitted the zero Fourier component on the top-left which is just the sum of the pixel values. If the stripes made up most of the image then we expect that the:\n",
    "\n",
    "1. The Fourier peaks lie along a line orthogonal to the stripes as in the plot.\n",
    "\n",
    "2. The amplitude squared of those peaks is comparable to the total value (recall Parseval).\n"
   ]
  },
  {
   "cell_type": "code",
   "execution_count": null,
   "metadata": {
    "collapsed": true
   },
   "outputs": [],
   "source": [
    "def stripetest(ima):\n",
    "    '''check for stripe pattern in fft'''\n",
    "    imf = np.fft.fft2(ima)\n",
    "    x = -1\n",
    "    for i in (-1,0,1):\n",
    "        y = np.max(np.abs(imf.diagonal(i)[1:]))**2/np.abs(imf[0,0])**2\n",
    "        x = max(x,y)\n",
    "    return x"
   ]
  },
  {
   "cell_type": "markdown",
   "metadata": {},
   "source": [
    "By testing on samples, `striptest(ima)>.15` detects ~95% of the blank squares which is good enough."
   ]
  },
  {
   "cell_type": "markdown",
   "metadata": {},
   "source": [
    "### Filtering stripes\n",
    "\n",
    "Next we turn to the the dark squares that contain a single chess piece against a striped background. \n",
    "\n",
    "![darkpawn](./examples/bp0.png)\n",
    "\n",
    "After a few (okay several) hours of experimentation and putzing with opencv docs, I settled on the following method: look for contours oriented close to 45 degree angle, and mask them out in the image."
   ]
  },
  {
   "cell_type": "code",
   "execution_count": 32,
   "metadata": {},
   "outputs": [],
   "source": [
    "im2 = Image.open('./examples/bp0.png')\n",
    "ima2 = np.bitwise_not(np.asarray(im2))\n",
    "imlarge = cv2.resize(ima2,(128,128),interpolation = cv2.INTER_CUBIC)\n",
    "imacol = cv2.cvtColor(imlarge,cv2.COLOR_GRAY2BGR)\n",
    "\n",
    "edges = cv2.Canny(imlarge,200,400,apertureSize = 3)\n",
    "_,contours,_ = cv2.findContours(edges, 1, 2)\n",
    "dashes = [c for c in contours if abs(cv2.minAreaRect(c)[2]+45)<8]                    "
   ]
  },
  {
   "cell_type": "code",
   "execution_count": 34,
   "metadata": {},
   "outputs": [
    {
     "data": {
      "image/png": "[encoded data removed]",
      "text/plain": [
       "<PIL.Image.Image image mode=RGB size=128x128 at 0xBB66B325F8>"
      ]
     },
     "execution_count": 34,
     "metadata": {},
     "output_type": "execute_result"
    }
   ],
   "source": [
    "back = cv2.drawContours(imacol,dashes,-1,(0,0,255),4)\n",
    "Image.fromarray(back)"
   ]
  },
  {
   "cell_type": "markdown",
   "metadata": {},
   "source": [
    "That worked out almost too well. The separation will not be so neat when the stripes touch the main figure. A second pass of the same algorithm helps a bit."
   ]
  },
  {
   "cell_type": "code",
   "execution_count": 35,
   "metadata": {
    "collapsed": true
   },
   "outputs": [],
   "source": [
    "def backfilter(ima,finalshape=(32,32),passes=2):\n",
    "    imlarge = cv2.resize(ima,(128,128),interpolation = cv2.INTER_CUBIC)    \n",
    "    for _ in range(passes):\n",
    "        mask = np.zeros(imlarge.shape,np.uint8)\n",
    "        ee = cv2.Canny(imlarge,200,400,apertureSize = 3)\n",
    "        _,contours,_ = cv2.findContours(ee, 1, 2)\n",
    "        dashes = [c for c in contours if abs(cv2.minAreaRect(c)[2]+45)<8]\n",
    "        cv2.drawContours(mask,dashes,-1,255,4)\n",
    "        imclean = np.where(mask==0,imlarge,0)\n",
    "        imlarge = imclean\n",
    "    return cv2.resize(imclean,finalshape,interpolation=cv2.INTER_AREA)"
   ]
  },
  {
   "cell_type": "code",
   "execution_count": 38,
   "metadata": {},
   "outputs": [
    {
     "data": {
      "image/png": "[encoded data removed]",
      "text/plain": [
       "<PIL.Image.Image image mode=L size=128x128 at 0xBB67C28588>"
      ]
     },
     "execution_count": 38,
     "metadata": {},
     "output_type": "execute_result"
    }
   ],
   "source": [
    "im3 = Image.open('./examples/bn6.png')\n",
    "ima3 = np.bitwise_not(np.asarray(im3))\n",
    "Image.fromarray(backfilter(ima3,finalshape=(128,128)))"
   ]
  },
  {
   "cell_type": "markdown",
   "metadata": {},
   "source": [
    "Filtering seems to have removed part of the pattern too. But that is alright! We only care that the final image overlaps with one of the, say, white knight templates more than it does with any other. "
   ]
  },
  {
   "cell_type": "code",
   "execution_count": null,
   "metadata": {
    "collapsed": true
   },
   "outputs": [],
   "source": []
  }
 ],
 "metadata": {
  "kernelspec": {
   "display_name": "Python 3",
   "language": "python",
   "name": "python3"
  },
  "language_info": {
   "codemirror_mode": {
    "name": "ipython",
    "version": 3
   },
   "file_extension": ".py",
   "mimetype": "text/x-python",
   "name": "python",
   "nbconvert_exporter": "python",
   "pygments_lexer": "ipython3",
   "version": "3.6.1"
  }
 },
 "nbformat": 4,
 "nbformat_minor": 2
}
